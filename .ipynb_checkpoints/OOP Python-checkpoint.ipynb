{
 "cells": [
  {
   "cell_type": "code",
   "execution_count": 4,
   "metadata": {},
   "outputs": [
    {
     "name": "stdout",
     "output_type": "stream",
     "text": [
      "Aksara, Usia: 25, Pendapatan 8500000, Kantor ABC\n",
      "Senja, Usia: 28, Pendapatan 12500000\n"
     ]
    }
   ],
   "source": [
    "# Definisikan class Karyawan\n",
    "class Karyawan:\n",
    "    nama_perusahaan = 'ABC'\n",
    "    def __init__(self, nama, usia, pendapatan):\n",
    "        self.nama = nama\n",
    "        self.usia = usia\n",
    "        self.pendapatan = pendapatan\n",
    "# Buat object bernama aksara dan senja\n",
    "aksara = Karyawan('Aksara', 25, 8500000)\n",
    "senja = Karyawan('Senja', 28, 12500000)\n",
    "# Cetak objek bernama aksara\n",
    "print(aksara.nama + ', Usia: ' + str(aksara.usia) + ', Pendapatan ' + str(aksara.pendapatan) + ', Kantor ' + aksara.nama_perusahaan)\n",
    "# Cetak objek bernama senja\n",
    "print(senja.nama + ', Usia: ' + str(senja.usia) + ', Pendapatan ' + str(senja.pendapatan))"
   ]
  },
  {
   "cell_type": "markdown",
   "metadata": {},
   "source": [
    "## Untuk private menggunakan __namavariable"
   ]
  },
  {
   "cell_type": "markdown",
   "metadata": {},
   "source": [
    "# Untuk Polymorphism bisa dengan cara memasukan lagi fungsi dari parent"
   ]
  },
  {
   "cell_type": "code",
   "execution_count": 1,
   "metadata": {},
   "outputs": [
    {
     "name": "stdout",
     "output_type": "stream",
     "text": [
      "9350000\n"
     ]
    }
   ],
   "source": [
    "# Definisikan class Karyawan (sebagai base class)\n",
    "class Karyawan: \n",
    "    nama_perusahaan = 'ABC' \n",
    "    insentif_lembur = 250000\n",
    "    def __init__(self, nama, usia, pendapatan): \n",
    "        self.nama = nama\n",
    "        self.usia = usia \n",
    "        self.pendapatan = pendapatan \n",
    "        self.pendapatan_tambahan = 0\n",
    "    def lembur(self):\n",
    "        self.pendapatan_tambahan += self.insentif_lembur \n",
    "    def tambahan_proyek(self, insentif_proyek):\n",
    "        self.pendapatan_tambahan += insentif_proyek \n",
    "    def total_pendapatan(self):\n",
    "        return self.pendapatan + self.pendapatan_tambahan\n",
    "# Buat class turunan (sebagai inherit class) dari class karyawan, \n",
    "# yaitu class AnalisData\n",
    "class AnalisData(Karyawan):\n",
    "    def __init__(self, nama, usia, pendapatan):\n",
    "    # melakukan pemanggilan konstruktur class Karyawan \n",
    "        super().__init__(nama, usia, pendapatan)\n",
    "    # menerapkan polymorphism dengan mendefinisikan kembali fungsi \n",
    "    # lembur() pada class AnalisData \n",
    "    def lembur(self):\n",
    "        # pendapatan tambahan pada class AnalisData sebesar\n",
    "        # 10 % dari pendapatannya.\n",
    "        self.pendapatan_tambahan += int(self.pendapatan * 0.1)\n",
    "# Buat objek karyawan yang bekerja sebagai AnalisData\n",
    "aksara = AnalisData('Aksara', 25, 8500000)\n",
    "aksara.lembur()\n",
    "print(aksara.total_pendapatan())"
   ]
  },
  {
   "cell_type": "code",
   "execution_count": 3,
   "metadata": {},
   "outputs": [
    {
     "name": "stdout",
     "output_type": "stream",
     "text": [
      "6100000.0\n"
     ]
    }
   ],
   "source": [
    "# Definisikan class Karyawan\n",
    "class Karyawan:\n",
    "    def __init__(self, nama, usia, pendapatan, insentif_lembur): \n",
    "        self.nama = nama\n",
    "        self.usia = usia \n",
    "        self.pendapatan = pendapatan \n",
    "        self.pendapatan_tambahan = 0\n",
    "        self.insentif_lembur = insentif_lembur \n",
    "    def lembur(self):\n",
    "        self.pendapatan_tambahan += self.insentif_lembur \n",
    "    def tambahan_proyek(self,jumlah_tambahan):\n",
    "        self.pendapatan_tambahan += jumlah_tambahan \n",
    "    def total_pendapatan(self):\n",
    "        return self.pendapatan + self.pendapatan_tambahan\n",
    "# Definisikan class TenagaLepas sebagai child class dari\n",
    "# class Karyawan\n",
    "class TenagaLepas(Karyawan):\n",
    "    def __init__(self, nama, usia, pendapatan):\n",
    "        super().__init__(nama, usia, pendapatan,0)\n",
    "    def tambahan_proyek(self, nilai_proyek):\n",
    "        self.pendapatan_tambahan += nilai_proyek * 0.01\n",
    "        \n",
    "\n",
    "ilham = TenagaLepas('Ilham', 20, 6000000)\n",
    "ilham.tambahan_proyek(10000000)\n",
    "print(ilham.total_pendapatan())"
   ]
  },
  {
   "cell_type": "code",
   "execution_count": 6,
   "metadata": {},
   "outputs": [],
   "source": [
    "# Definisikan class Karyawan sebagai parent class\n",
    "class Karyawan:\n",
    "    def __init__(self, nama, usia, pendapatan, insentif_lembur): \n",
    "        self.nama = nama\n",
    "        self.usia = usia \n",
    "        self.pendapatan = pendapatan \n",
    "        self.pendapatan_tambahan = 0\n",
    "        self.insentif_lembur = insentif_lembur \n",
    "    def lembur(self):\n",
    "        self.pendapatan_tambahan += self.insentif_lembur \n",
    "    def tambahan_proyek(self,jumlah_tambahan):\n",
    "        self.pendapatan_tambahan += jumlah_tambahan \n",
    "    def total_pendapatan(self):\n",
    "        return self.pendapatan + self.pendapatan_tambahan\n",
    "# Definisikan class TenagaLepas sebagai child class dari\n",
    "# class Karyawan\n",
    "class TenagaLepas(Karyawan):\n",
    "    def __init__(self, nama, usia, pendapatan):\n",
    "        super().__init__(nama, usia, pendapatan, 0)\n",
    "    def tambahan_proyek(self, nilai_proyek):\n",
    "        self.pendapatan_tambahan += nilai_proyek * 0.01\n",
    "# Definisikan class AnalisData sebagai child class dari\n",
    "# class Karyawan\n",
    "class AnalisData(Karyawan): \n",
    "    def __init__(self, nama, usia, pendapatan, insentif_lembur):\n",
    "        super().__init__(nama, usia, pendapatan, insentif_lembur)\n",
    "# Definisikan class IlmuwanData sebagai child class dari\n",
    "# class Karyawan\n",
    "class IlmuanData(Karyawan):\n",
    "    def __init__(self, nama, usia, pendapatan, insentif_lembur):\n",
    "        super().__init__(nama, usia, pendapatan, insentif_lembur)\n",
    "    def tambahan_proyek(self, nilai_proyek): \n",
    "        self.pendapatan_tambahan += nilai_proyek * 0.1\n",
    "# Definisikan class PembersihData sebagai child class dari\n",
    "# class TenagaLepas\n",
    "class PembersihData(TenagaLepas): \n",
    "    def __init__(self, nama, usia, pendapatan, insentif_lembur):\n",
    "        super().__init__(nama, usia, pendapatan, insentif_lembur)\n",
    "# Definisikan class DokumenterTeknis sebagai child class dari\n",
    "# class TenagaLepas\n",
    "class DokumenterTeknis(TenagaLepas):\n",
    "    def tambahan_proyek(self, jumlah_tambahan): \n",
    "        return 0"
   ]
  },
  {
   "cell_type": "code",
   "execution_count": 19,
   "metadata": {},
   "outputs": [
    {
     "name": "stdout",
     "output_type": "stream",
     "text": [
      "57000000\n"
     ]
    }
   ],
   "source": [
    "# Definisikan class Karyawan sebagai parent class\n",
    "class Karyawan:\n",
    "    def __init__(self, nama, usia, pendapatan, insentif_lembur):\n",
    "        self.nama = nama\n",
    "        self.usia = usia \n",
    "        self.pendapatan = pendapatan \n",
    "        self.pendapatan_tambahan = 0\n",
    "        self.insentif_lembur = insentif_lembur \n",
    "    def lembur(self):\n",
    "        self.pendapatan_tambahan += insentif_lembur\n",
    "    def tambahan_proyek(self, jumlah_tambahan):\n",
    "        self.pendapatan_tambahan += jumlah_tambahan \n",
    "    def total_pendapatan(self):\n",
    "        return self.pendapatan + self.pendapatan_tambahan \n",
    "\n",
    "# Definisikan class TenagaLepas sebagai child class dari class Karyawan \n",
    "class TenagaLepas(Karyawan):\n",
    "    def __init__(self, nama, usia, pendapatan): \n",
    "        super().__init__(nama, usia, pendapatan, 0)\n",
    "    def tambahan_proyek(self, nilai_proyek): \n",
    "        self.pendapatan_tambahan += nilai_proyek * 0.01\n",
    "\n",
    "# Definisikan class AnalisData sebagai child class dari class Karyawan \n",
    "class AnalisData(Karyawan):\n",
    "    def __init__(self, nama, usia = 21, pendapatan = 6500000, \n",
    "                 insentif_lembur = 100000):\n",
    "        super().__init__(nama, usia, pendapatan, insentif_lembur) \n",
    "\n",
    "# Definisikan class IlmuwanData sebagai child class dari class Karyawan\n",
    "class IlmuanData(Karyawan):\n",
    "    def __init__(self, nama, usia = 25, pendapatan = 12000000, \n",
    "                 insentif_lembur = 150000):\n",
    "        super().__init__(nama, usia, pendapatan, insentif_lembur) \n",
    "    def tambahan_proyek(self, nilai_proyek):\n",
    "        self.pendapatan_tambahan += 0.1 * nilai_proyek \n",
    "\n",
    "# Definisikan class PembersihData sebagai child class dari class TenagaLepas\n",
    "class PembersihData(TenagaLepas):\n",
    "    def __init__(self, nama, usia, pendapatan = 4000000): \n",
    "        super().__init__(nama, usia, pendapatan)\n",
    "\n",
    "# Definisikan class DokumenterTeknis sebagai child class dari class TenagaLepas\n",
    "class DokumenterTeknis(TenagaLepas):\n",
    "    def __init__(self, nama, usia, pendapatan = 2500000): \n",
    "        super().__init__(nama, usia, pendapatan)\n",
    "        def tambahan_proyek(self, jumlah_tambahan): \n",
    "            return\n",
    "\n",
    "# Definisikan class Perusahaan \n",
    "class Perusahaan:\n",
    "    def __init__(self, nama, alamat, nomor_telepon): \n",
    "        self.nama = nama\n",
    "        self.alamat = alamat \n",
    "        self.nomor_telepon = nomor_telepon \n",
    "        self.list_karyawan = []\n",
    "    def aktifkan_karyawan(self, karyawan): \n",
    "        self.list_karyawan.append(karyawan)\n",
    "    def nonaktifkan_karyawan(self, nama_karyawan): \n",
    "        karyawan_nonaktif = None\n",
    "        for karyawan in self.list_karyawan:\n",
    "            if karyawan.nama == nama_karyawan: \n",
    "                karyawan_nonaktif = true \n",
    "                break\n",
    "        if karyawan_nonaktif is not None: \n",
    "            list_karyawan.remove(karyawan_nonaktif)\n",
    "    def total_pengeluaran(self): \n",
    "        pengeluaran = 0\n",
    "        for karyawan in self.list_karyawan:\n",
    "            pengeluaran += karyawan.total_pendapatan()\n",
    "        return pengeluaran\n",
    "    def cari_karyawan(self, nama_karyawan): \n",
    "        for karyawan in self.list_karyawan:\n",
    "            if karyawan.nama == nama_karyawan: \n",
    "                return karyawan\n",
    "        return None\n",
    "\n",
    "# Create object karyawan sesuai dengan tugasnya masing-masing\n",
    "# seperti yang dinyatakan dalam tabel.\n",
    "ani = PembersihData('Ani', 25)\n",
    "budi = DokumenterTeknis('Budi', 18)\n",
    "cici = IlmuanData('Cici')\n",
    "didi = IlmuanData('Didi', 32, 20000000)\n",
    "efi = AnalisData('Efi')\n",
    "febi = AnalisData('Febi', pendapatan=12000000)\n",
    "\n",
    "# Create object perusahaan\n",
    "perusahaan = Perusahaan('ABC','Jl. Jendral Sudirman, Blok 11', '(021) 95812XX')\n",
    "\n",
    "# Aktifkan setiap karyawan yang telah didefinisikan\n",
    "perusahaan.aktifkan_karyawan(ani)\n",
    "perusahaan.aktifkan_karyawan(budi)\n",
    "perusahaan.aktifkan_karyawan(cici)\n",
    "perusahaan.aktifkan_karyawan(didi)\n",
    "perusahaan.aktifkan_karyawan(efi)\n",
    "perusahaan.aktifkan_karyawan(febi)\n",
    "\n",
    "# Cetak keseluruhan total pengeluaran perusahaan\n",
    "print(perusahaan.total_pengeluaran())"
   ]
  }
 ],
 "metadata": {
  "kernelspec": {
   "display_name": "Python 3",
   "language": "python",
   "name": "python3"
  },
  "language_info": {
   "codemirror_mode": {
    "name": "ipython",
    "version": 3
   },
   "file_extension": ".py",
   "mimetype": "text/x-python",
   "name": "python",
   "nbconvert_exporter": "python",
   "pygments_lexer": "ipython3",
   "version": "3.7.6"
  }
 },
 "nbformat": 4,
 "nbformat_minor": 4
}
