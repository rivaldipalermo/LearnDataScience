{
 "cells": [
  {
   "cell_type": "markdown",
   "metadata": {},
   "source": [
    "# Data Day\n",
    "### Apa yang akan dilakukan ?\n",
    "Proses dasar Data Reprocessing dan Exploratory Data Analysis (EDA)\n",
    "1. Data Reprocessing, Proses pengubahan suatu data yang masih mentah menjadi data yang lebih berguna dan efisien.\n",
    "2. EDA, Proses analisis data untuk memahami lebih baik seperti dari aspek relasi antar variabel,identifikasi anomali,dll.\n",
    "\n",
    "The boring part of data science, meng-cover 60% pekerjaan.\n",
    "    \n",
    "### Kenapa ?\n",
    "Sebelum data diolah ke machine learning, data harus dipersiapkan terlebih dahulu. Data hasil yang diberikan ke machine learning biasanya berupa tabel berupa angka - angka, itulah kenapa kita perlu berurusan terlebih dahulu dengan data kosong, data duplikasi, data error, anomali, observasi tak perlu, standarisasi, dll.\n",
    "### Referensi\n",
    "Referensi materi & bahan diambil dari Kaggle, Youtube, Ebook.\n",
    "\n",
    "### Note ...\n",
    "Saya masih pemula dalam bidang data science, pasti ada kesalahan dalam konsep / terminologi jadi maklumi bwangs."
   ]
  },
  {
   "cell_type": "markdown",
   "metadata": {},
   "source": [
    "# Konteks Kasus Masalah\n",
    "Dataset yang berupa survey pilihan makanan yang diambil pada beberapa negara berbeda di tahun 2019. Mengandung 289 respons unik.\n",
    "\n",
    "## Target :\n",
    "Bersihkan, visualisasi data dan siapkan data tersebut untuk model."
   ]
  },
  {
   "cell_type": "markdown",
   "metadata": {},
   "source": [
    "---"
   ]
  },
  {
   "cell_type": "markdown",
   "metadata": {},
   "source": [
    "### 1. Import library"
   ]
  },
  {
   "cell_type": "code",
   "execution_count": null,
   "metadata": {},
   "outputs": [],
   "source": []
  },
  {
   "cell_type": "markdown",
   "metadata": {},
   "source": [
    "### 2. Buang kolom yang tak perlu\n",
    "Buang fitur yang memang tidak akan digunakan pada model ataupun visualisasi."
   ]
  },
  {
   "cell_type": "code",
   "execution_count": null,
   "metadata": {},
   "outputs": [],
   "source": []
  },
  {
   "cell_type": "code",
   "execution_count": null,
   "metadata": {},
   "outputs": [],
   "source": []
  },
  {
   "cell_type": "markdown",
   "metadata": {},
   "source": [
    "### 3. Cari baris yang terdapat feature kosong (Missing Data)\n",
    "Strategi apabila ada baris yang kosong bisa di ganti dengan mean/median ataupun di delete apabila yang hilang cuma beberapa."
   ]
  },
  {
   "cell_type": "code",
   "execution_count": null,
   "metadata": {},
   "outputs": [],
   "source": []
  },
  {
   "cell_type": "markdown",
   "metadata": {},
   "source": [
    "### 4. Memburu outliers\n",
    "Outliers = suatu observasi abnormal pada data, nilainya terlalu ekstrim dari sample lain.\n",
    "\n",
    "Outlier bisa jadi data karena :\n",
    "* Natural, contohnya gaji Bill Gates\n",
    "* Error, contohnya typo pas masukkin gaji (kepencet nolnya)\n",
    "\n",
    "Teknik mencari outliers :\n",
    "* pakai IQR\n",
    "* pakai Visualisasi\n",
    "\n",
    "Suatu outlier dapat mengubah skewness data. Setelah ketemu outliernya bisa di fix ataupun dihapus."
   ]
  },
  {
   "cell_type": "code",
   "execution_count": null,
   "metadata": {},
   "outputs": [],
   "source": []
  },
  {
   "cell_type": "markdown",
   "metadata": {},
   "source": [
    "### 5. Modifikasi data\n",
    "Cek value yang mencurigakan/salah, Grouping, dan lain - lain.\n",
    "\n",
    "Age group :\n",
    "* 0 - 15  = Child\n",
    "* 16 - 25 = Young\n",
    "* 26 - 65 = Adult\n",
    "* 66 - ~  = Old"
   ]
  },
  {
   "cell_type": "code",
   "execution_count": null,
   "metadata": {
    "scrolled": true
   },
   "outputs": [],
   "source": []
  },
  {
   "cell_type": "markdown",
   "metadata": {},
   "source": [
    "### 6. Encode data\n",
    "Ubah categorical feature menjadi numerikal agar bisa dicerna oleh model machine learning nanti.\n",
    "Ada banyak metodenya.\n",
    "\n",
    "* Label encode, Hot one encode = untuk kategori yang tidak punya relasi susunan\n",
    "* Ordinal encode = untuk kategori yang mempunyai relasi susunan\n",
    "\n",
    "dan lain - lain"
   ]
  },
  {
   "cell_type": "code",
   "execution_count": null,
   "metadata": {},
   "outputs": [],
   "source": []
  },
  {
   "cell_type": "markdown",
   "metadata": {},
   "source": [
    "# Finish\n",
    "### Next ? Membuat model  ML berdasarkan data yang sudah kita bersihkan\n",
    "\n",
    "### Thank you telah berpartisipasi, Jangan lupa untuk Like, Komentar dan Subscribe\n",
    "Free python ebook :\n",
    "https://jakevdp.github.io/PythonDataScienceHandbook/index.html"
   ]
  },
  {
   "cell_type": "code",
   "execution_count": null,
   "metadata": {},
   "outputs": [],
   "source": []
  }
 ],
 "metadata": {
  "kernelspec": {
   "display_name": "Python 3",
   "language": "python",
   "name": "python3"
  },
  "language_info": {
   "codemirror_mode": {
    "name": "ipython",
    "version": 3
   },
   "file_extension": ".py",
   "mimetype": "text/x-python",
   "name": "python",
   "nbconvert_exporter": "python",
   "pygments_lexer": "ipython3",
   "version": "3.7.6"
  }
 },
 "nbformat": 4,
 "nbformat_minor": 4
}
